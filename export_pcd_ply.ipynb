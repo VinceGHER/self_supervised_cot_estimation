{
 "cells": [
  {
   "cell_type": "code",
   "execution_count": 4,
   "metadata": {},
   "outputs": [
    {
     "name": "stdout",
     "output_type": "stream",
     "text": [
      "start\n",
      "PointCloud with 345793 points.\n",
      "[Open3D DEBUG] Input Points / Samples: 345793 / 272914\n",
      "[Open3D DEBUG] #   Got kernel density: 0.09315800666809082 (s), 788.96875 (MB) / 888.125 (MB) / 4279 (MB)\n",
      "[Open3D DEBUG] #     Got normal field: 0.4918959140777588 (s), 788.96875 (MB) / 888.125 (MB) / 4279 (MB)\n",
      "[Open3D DEBUG] Point weight / Estimated Area: 4.425733e-06 / 1.530387e+00\n",
      "[Open3D DEBUG] #       Finalized tree: 0.513085126876831 (s), 830.73046875 (MB) / 888.125 (MB) / 4279 (MB)\n",
      "[Open3D DEBUG] #  Set FEM constraints: 0.4473910331726074 (s), 789.015625 (MB) / 888.125 (MB) / 4279 (MB)\n",
      "[Open3D DEBUG] #Set point constraints: 0.19373798370361328 (s), 789.015625 (MB) / 888.125 (MB) / 4279 (MB)\n",
      "[Open3D DEBUG] Leaf Nodes / Active Nodes / Ghost Nodes: 1902825 / 2169144 / 5513\n",
      "[Open3D DEBUG] Memory Usage: 789.016 MB\n",
      "[Open3D DEBUG] # Linear system solved: 1.3279271125793457 (s), 842.08203125 (MB) / 888.125 (MB) / 4279 (MB)\n",
      "[Open3D DEBUG] Got average: 0.04173898696899414 (s), 842.08203125 (MB) / 888.125 (MB) / 4279 (MB)\n",
      "[Open3D DEBUG] Iso-Value: 4.985123e-01 = 1.723821e+05 / 3.457930e+05\n",
      "Cycle[0] Depth[0/9]:\t[Open3D DEBUG] #          Total Solve:       7.3 (s),     896.4 (MB)\n",
      "Updated constraints / Got system / Solved in:  0.000 /  0.000 /  0.000\t(789.016 MB)\tNodes: 8\n",
      "CG: 9.8783e-01 -> 9.8783e-01 -> 6.7782e-04 (6.9e-04) [32515]\n",
      "Cycle[0] Depth[1/9]:\tUpdated constraints / Got system / Solved in:  0.002 /  0.000 /  0.000\t(789.016 MB)\tNodes: 27\n",
      "  GS: 7.6087e-01 -> 7.6087e-01 -> 3.5285e-04 (4.6e-04) [8]\n",
      "Cycle[0] Depth[2/9]:\tUpdated constraints / Got system / Solved in:  0.002 /  0.001 /  0.000\t(789.016 MB)\tNodes: 125\n",
      "    GS: 1.3769e+00 -> 1.3769e+00 -> 2.4965e-03 (1.8e-03) [8]\n",
      "Cycle[0] Depth[3/9]:\tUpdated constraints / Got system / Solved in:  0.005 /  0.007 /  0.000\t(789.016 MB)\tNodes: 729\n",
      "      GS: 1.6577e+00 -> 1.6577e+00 -> 1.1115e-02 (6.7e-03) [8]\n",
      "Cycle[0] Depth[4/9]:\tUpdated constraints / Got system / Solved in:  0.003 /  0.019 /  0.002\t(789.016 MB)\tNodes: 4913\n",
      "        GS: 1.6876e+00 -> 1.6876e+00 -> 1.5942e-02 (9.4e-03) [8]\n",
      "Cycle[0] Depth[5/9]:\tUpdated constraints / Got system / Solved in:  0.006 /  0.031 /  0.022\t(789.016 MB)\tNodes: 35937\n",
      "          GS: 1.5654e+00 -> 1.5654e+00 -> 2.1500e-02 (1.4e-02) [8]\n",
      "Cycle[0] Depth[6/9]:\tUpdated constraints / Got system / Solved in:  0.002 /  0.025 /  0.017\t(789.016 MB)\tNodes: 48748\n",
      "            GS: 1.4265e+00 -> 1.4265e+00 -> 1.2238e-02 (8.6e-03) [8]\n",
      "Cycle[0] Depth[7/9]:\tUpdated constraints / Got system / Solved in:  0.004 /  0.041 /  0.041\t(789.016 MB)\tNodes: 168720\n",
      "              GS: 1.2725e+00 -> 1.2725e+00 -> 1.0427e-02 (8.2e-03) [8]\n",
      "Cycle[0] Depth[8/9]:\tUpdated constraints / Got system / Solved in:  0.010 /  0.063 /  0.137\t(793.367 MB)\tNodes: 554512\n",
      "                GS: 9.6897e-01 -> 9.6897e-01 -> 5.3622e-03 (5.5e-03) [8]\n",
      "Cycle[0] Depth[9/9]:\tUpdated constraints / Got system / Solved in:  0.014 /  0.143 /  0.268\t(842.082 MB)\tNodes: 1328664\n",
      "                  GS: 5.0061e-01 -> 5.0061e-01 -> 1.3726e-03 (2.7e-03) [8]\n",
      "TriangleMesh with 400837 points and 790301 triangles.\n"
     ]
    }
   ],
   "source": [
    "import open3d as o3d\n",
    "import numpy as np\n",
    "\n",
    "# Load a point cloud with vertex colors (replace 'your_point_cloud.ply' with your file)\n",
    "print('start')\n",
    "pcd = o3d.io.read_point_cloud(\"/home/gharib-ml/Desktop/cloud.ply\")\n",
    "# simplify\n",
    "pcd = pcd.voxel_down_sample(voxel_size=0.1)\n",
    "\n",
    "pcd.estimate_normals(search_param=o3d.geometry.KDTreeSearchParamHybrid(radius=0.05, max_nn=30))\n",
    "print(pcd)\n",
    "# # Visualize the point cloud\n",
    "o3d.visualization.draw_geometries([pcd])\n",
    "# print('point cloud loaded')\n",
    "# # Estimate normals (required for surface reconstruction)\n",
    "with o3d.utility.VerbosityContextManager(\n",
    "        o3d.utility.VerbosityLevel.Debug) as cm:\n",
    "    mesh, densities = o3d.geometry.TriangleMesh.create_from_point_cloud_poisson(\n",
    "        pcd, depth=9)\n",
    "vertices_to_remove = densities < np.quantile(densities, 0.1)\n",
    "mesh.remove_vertices_by_mask(vertices_to_remove)\n",
    "print(mesh)\n",
    "# radii = [0.01, 0.1, 0.2, 0.4]  # Adjust these values according to the scale of your building\n",
    "\n",
    "# # Perform surface reconstruction\n",
    "# mesh = o3d.geometry.TriangleMesh.create_from_point_cloud_ball_pivoting(\n",
    "#     pcd, o3d.utility.DoubleVector(radii))\n",
    "o3d.visualization.draw_geometries([mesh])\n",
    "# print('normals estimated')\n",
    "# # Optionally, you can orient the normals to be consistent\n",
    "# pcd.orient_normals_consistent_tangent_plane(100)\n",
    "# print('normals oriented')\n",
    "# # Ball Pivoting Algorithm (BPA) for surface reconstruction\n",
    "# radii = [1.0, 2.0, 4.0]  # Define the radii for the BPA\n",
    "# mesh = o3d.geometry.TriangleMesh.create_from_point_cloud_ball_pivoting(\n",
    "#     pcd, o3d.utility.DoubleVector(radii))\n",
    "# print('mesh created')\n",
    "# o3d.visualization.draw_geometries([mesh])\n",
    "# # Transfer the colors from the point cloud to the mesh\n",
    "# # Compute vertex normals for the mesh (required for visualization)\n",
    "# mesh.compute_vertex_normals()\n",
    "# print('vertex normals computed')\n",
    "# # Ensure the mesh has vertex colors\n",
    "# if not any(mesh.has_vertex_colors()):\n",
    "#     # Assign the vertex colors from the point cloud to the mesh\n",
    "#     vertex_colors = np.asarray(pcd.colors)\n",
    "#     mesh.vertex_colors = o3d.utility.Vector3dVector(vertex_colors)\n",
    "\n",
    "# # Visualize the reconstructed mesh with vertex colors\n",
    "# o3d.visualization.draw_geometries([mesh])\n",
    "\n",
    "# # Save the reconstructed mesh\n",
    "# o3d.io.write_triangle_mesh(\"reconstructed_mesh_with_colors.ply\", mesh)\n"
   ]
  },
  {
   "cell_type": "code",
   "execution_count": 16,
   "metadata": {},
   "outputs": [
    {
     "name": "stdout",
     "output_type": "stream",
     "text": [
      "0.18.0\n",
      "TriangleMesh with 27590 points and 54547 triangles.\n",
      "Found 18 non-manifold vertices.\n",
      "[Open3D INFO] actual parallel_partitions 1\n",
      "Error during UV unwrapping: \u001b[1;31m[Open3D Error] (void open3d::t::geometry::kernel::uvunwrapping::{anonymous}::ComputeUVAtlasPartition(open3d::t::geometry::TriangleMesh, float, bool, open3d::t::geometry::kernel::uvunwrapping::{anonymous}::UVAtlasPartitionOutput&)) /root/Open3D/cpp/open3d/t/geometry/kernel/UVUnwrapping.cpp:124: UVAtlasPartition: Non-manifold mesh\n",
      "\u001b[0;m\n"
     ]
    }
   ],
   "source": [
    "print(o3d.__version__)\n",
    "\n",
    "print(mesh)\n",
    "mesh.compute_vertex_normals()\n",
    "mesh.remove_duplicated_vertices()\n",
    "# Check for non-manifold edges\n",
    "non_manifold_edges = mesh.get_non_manifold_edges()\n",
    "if len(non_manifold_edges) > 0:\n",
    "    print(f\"Found {len(non_manifold_edges)} non-manifold edges.\")\n",
    "    # Optional: Attempt to remove non-manifold edges\n",
    "    mesh.remove_non_manifold_edges()\n",
    "\n",
    "# Check for non-manifold vertices\n",
    "non_manifold_vertices = mesh.get_non_manifold_vertices()\n",
    "if len(non_manifold_vertices) > 0:\n",
    "    print(f\"Found {len(non_manifold_vertices)} non-manifold vertices.\")\n",
    "    # Optional: Attempt to remove non-manifold vertices\n",
    "    # mesh.remove_non_manifold_vertices()\n",
    "\n",
    "\n",
    "t_mesh = o3d.t.geometry.TriangleMesh.from_legacy(mesh)\n",
    "\n",
    "# Compute the UV atlas partition\n",
    "try:\n",
    "    uv_output = t_mesh.compute_uvatlas()\n",
    "    print(\"UV unwrapping succeeded.\")\n",
    "except RuntimeError as e:\n",
    "    print(f\"Error during UV unwrapping: {e}\")"
   ]
  },
  {
   "cell_type": "code",
   "execution_count": 1,
   "metadata": {},
   "outputs": [
    {
     "name": "stdout",
     "output_type": "stream",
     "text": [
      "Jupyter environment detected. Enabling Open3D WebVisualizer.\n",
      "[Open3D INFO] WebRTC GUI backend enabled.\n",
      "[Open3D INFO] WebRTCWindowSystem: HTTP handshake server disabled.\n",
      "PointCloud with 9547 points.\n",
      "colors [[0.47058824 0.44313725 0.41176471]\n",
      " [0.48453159 0.48932462 0.43877996]\n",
      " [0.25003381 0.24246112 0.21541582]\n",
      " [0.46666667 0.47843137 0.44313725]\n",
      " [0.52352941 0.53529412 0.5       ]\n",
      " [0.53333333 0.5372549  0.50588235]\n",
      " [0.51176471 0.46078431 0.4254902 ]\n",
      " [0.49281046 0.49836601 0.4496732 ]\n",
      " [0.48976827 0.48955437 0.44884135]\n",
      " [0.49717647 0.49654902 0.45164706]]\n",
      "(9547, 3) (9547, 3) (9547, 4)\n",
      "point cloud loaded\n"
     ]
    }
   ],
   "source": [
    "import pymeshlab\n",
    "import numpy as np\n",
    "import open3d as o3d\n",
    "pcd = o3d.io.read_point_cloud(\"/home/gharib-ml/Desktop/master_thesis_v2/exps/exp2-1/cloud.ply\")\n",
    "# simplify\n",
    "pcd = pcd.voxel_down_sample(voxel_size=0.2)\n",
    "\n",
    "pcd.estimate_normals(search_param=o3d.geometry.KDTreeSearchParamHybrid(radius=0.05, max_nn=30))\n",
    "print(pcd)\n",
    "# Load point cloud from pcd\n",
    "# pcd = o3d.io.read_point_cloud(\"your_point_cloud.ply\")\n",
    "points = np.asarray(pcd.points)\n",
    "normals = np.asarray(pcd.normals)\n",
    "colors = np.asarray(pcd.colors)\n",
    "print('colors',colors[:10,:])\n",
    "# add alpha channel\n",
    "colors = np.concatenate([colors, np.ones((colors.shape[0], 1))], axis=1)\n",
    "print(points.shape, normals.shape, colors.shape)\n",
    "m = pymeshlab.Mesh(points, v_normals_matrix=normals, v_color_matrix=colors) # color is N x 4 with alpha info\n",
    "ms = pymeshlab.MeshSet()\n",
    "ms.add_mesh(m, \"pc_scan\")\n",
    "print('point cloud loaded')\n",
    "ms.generate_surface_reconstruction_screened_poisson(depth=8, scale=1)\n",
    "# not familiar with the crop API, but I'm sure it's doable\n",
    "# now we generate UV map; there are a couple options here but this is a naive way\n",
    "print('surface reconstructed')\n",
    "ms.compute_texcoord_parametrization_triangle_trivial_per_wedge()\n",
    "# create texture using UV map and vertex colors\n",
    "print('uv map computed')\n",
    "ms.compute_texmap_from_color(textname=f\"my_texture_name\") # textname will be filename of a png, should not be a full path\n",
    "# texture file won't be saved until you save the mesh\n",
    "ms.save_current_mesh(mesh_path)"
   ]
  },
  {
   "cell_type": "code",
   "execution_count": 18,
   "metadata": {},
   "outputs": [
    {
     "name": "stdout",
     "output_type": "stream",
     "text": [
      "std::vector<Eigen::Vector3d> with 132830 elements.\n",
      "Use numpy.asarray() to access data.\n"
     ]
    }
   ],
   "source": [
    "print(mesh.vertex_colors)"
   ]
  },
  {
   "cell_type": "markdown",
   "metadata": {},
   "source": [
    "print()"
   ]
  },
  {
   "cell_type": "code",
   "execution_count": 5,
   "metadata": {},
   "outputs": [
    {
     "name": "stdout",
     "output_type": "stream",
     "text": [
      "Similar Triangles face sampling\n"
     ]
    }
   ],
   "source": [
    "import pymeshlab\n",
    "\n",
    "# Load the .ply file\n",
    "ms = pymeshlab.MeshSet()\n",
    "ms.load_new_mesh(\"reconstructed_mesh_with_colors.ply\")\n",
    "ms.compute_texcoord_parametrization_triangle_trivial_per_wedge()\n",
    "ms.compute_texmap_from_color(textname=f\"my_texture_name\") # textname will be filename of a png, should not be a full path\n",
    "# Save the mesh as .dae\n",
    "ms.save_current_mesh(\"f.dae\", save_textures=True)"
   ]
  }
 ],
 "metadata": {
  "kernelspec": {
   "display_name": "venv2",
   "language": "python",
   "name": "python3"
  },
  "language_info": {
   "codemirror_mode": {
    "name": "ipython",
    "version": 3
   },
   "file_extension": ".py",
   "mimetype": "text/x-python",
   "name": "python",
   "nbconvert_exporter": "python",
   "pygments_lexer": "ipython3",
   "version": "3.8.10"
  }
 },
 "nbformat": 4,
 "nbformat_minor": 2
}
