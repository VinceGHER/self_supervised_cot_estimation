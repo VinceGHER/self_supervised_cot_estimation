{
 "cells": [
  {
   "cell_type": "code",
   "execution_count": 1,
   "metadata": {},
   "outputs": [
    {
     "name": "stdout",
     "output_type": "stream",
     "text": [
      "Jupyter environment detected. Enabling Open3D WebVisualizer.\n",
      "[Open3D INFO] WebRTC GUI backend enabled.\n",
      "[Open3D INFO] WebRTCWindowSystem: HTTP handshake server disabled.\n",
      "start\n",
      "PointCloud with 9547 points.\n",
      "[Open3D DEBUG] Input Points / Samples: 9547 / 9485\n",
      "[Open3D DEBUG] #   Got kernel density: 0.02631688117980957 (s), 278.63671875 (MB) / 278.63671875 (MB) / 456 (MB)\n",
      "[Open3D DEBUG] #     Got normal field: 0.06779193878173828 (s), 280.4765625 (MB) / 280.4765625 (MB) / 456 (MB)\n",
      "[Open3D DEBUG] Point weight / Estimated Area: 5.709067e-05 / 5.450446e-01\n",
      "[Open3D DEBUG] #       Finalized tree: 0.11333918571472168 (s), 290.74609375 (MB) / 290.74609375 (MB) / 456 (MB)\n",
      "[Open3D DEBUG] #  Set FEM constraints: 0.3967769145965576 (s), 290.74609375 (MB) / 290.74609375 (MB) / 456 (MB)\n",
      "[Open3D DEBUG] #Set point constraints: 0.0828549861907959 (s), 290.74609375 (MB) / 290.74609375 (MB) / 456 (MB)\n",
      "[Open3D DEBUG] Leaf Nodes / Active Nodes / Ghost Nodes: 255928 / 205592 / 86897\n",
      "[Open3D DEBUG] Memory Usage: 290.746 MB\n",
      "Cycle[0] Depth[0/9]:\tUpdated constraints / Got system / Solved in:  0.000 /  0.000 /  0.000\t(290.746 MB)\tNodes: 8\n",
      "CG: 3.5047e-01 -> 3.5047e-01 -> 7.3874e-08 (2.1e-07) [32601]\n",
      "[Open3D DEBUG] # Linear system solved: 13.313608884811401 (s), 301.6796875 (MB) / 301.6796875 (MB) / 456 (MB)Cycle[0] Depth[1/9]:\tUpdated constraints / Got system / Solved in:  0.024 /  0.000 /  0.000\t(290.746 MB)\tNodes: 27\n",
      "  GS: 4.9837e-01 -> 4.9837e-01 -> 4.2282e-03 (8.5e-03) [8]\n",
      "Cycle[0] Depth[2/9]:\tUpdated constraints / Got system / Solved in:  0.010 /  0.031 /  0.012\t(290.746 MB)\tNodes: 125\n",
      "    GS: 6.7824e-01 -> 6.7824e-01 -> 9.5237e-03 (1.4e-02) [8]\n",
      "Cycle[0] Depth[3/9]:\tUpdated constraints / Got system / Solved in:  0.017 /  0.149 /  0.074\t(290.746 MB)\tNodes: 729\n",
      "      GS: 8.6046e-01 -> 8.6046e-01 -> 1.6828e-03 (2.0e-03) [8]\n",
      "Cycle[0] Depth[4/9]:\tUpdated constraints / Got system / Solved in:  0.023 /  0.270 /  0.126\t(290.746 MB)\tNodes: 4913\n",
      "        GS: 9.1288e-01 -> 9.1288e-01 -> 1.8566e-02 (2.0e-02) [8]\n",
      "Cycle[0] Depth[5/9]:\tUpdated constraints / Got system / Solved in:  0.018 /  0.138 /  1.346\t(291.492 MB)\tNodes: 35937\n",
      "          GS: 8.7401e-01 -> 8.7401e-01 -> 1.3574e-02 (1.6e-02) [8]\n",
      "Cycle[0] Depth[6/9]:\tUpdated constraints / Got system / Solved in:  0.019 /  0.219 /  3.233\t(293.688 MB\n",
      ")\tNodes: 21896\n",
      "            GS: 5.6904e-01 -> 5.6904e-01 -> 8.0628e-03 (1.4e-02) [8]\n",
      "Cycle[0] Depth[7/9]:\tUpdated constraints / Got system / Solved in:  0.005 /  0.094 /  0.565\t(299.617 MB)\tNodes: 50936\n",
      "              GS: 3.7344e-01 -> 3.7344e-01 -> 2.0663e-03 (5.5e-03) [8]\n",
      "Cycle[0] Depth[8/9]:\tUpdated constraints / Got system / Solved in:  0.019 /  0.345 /  5.328\t(301.680 MB)\tNodes: 65872\n",
      "                GS: 1.7344e-01 -> 1.7344e-01 -> 7.2997e-05 (4.2e-04) [8]\n",
      "Cycle[0] Depth[9/9]:\tUpdated constraints / Got system / Solved in:  0.002 /  0.004 /  0.001\t(301.680 MB)\tNodes: 0\n",
      "                  GS: 0.0000e+00 -> 0.0000e+00 -> 0.0000e+00 (-nan) [8]\n",
      "[Open3D DEBUG] Got average: 0.07294106483459473 (s), 301.6796875 (MB) / 301.6796875 (MB) / 456 (MB)\n",
      "[Open3D DEBUG] Iso-Value: 4.993148e-01 = 4.766959e+03 / 9.547000e+03\n",
      "[Open3D DEBUG] #          Total Solve:      27.9 (s),     331.9 (MB)\n",
      "TriangleMesh with 27590 points and 54569 triangles.\n"
     ]
    },
    {
     "data": {
      "text/plain": [
       "True"
      ]
     },
     "execution_count": 1,
     "metadata": {},
     "output_type": "execute_result"
    }
   ],
   "source": [
    "import open3d as o3d\n",
    "import numpy as np\n",
    "\n",
    "# Load a point cloud with vertex colors (replace 'your_point_cloud.ply' with your file)\n",
    "print('start')\n",
    "pcd = o3d.io.read_point_cloud(\"/home/gharib-ml/Desktop/master_thesis_v2/exps/exp2-1/cloud.ply\")\n",
    "# simplify\n",
    "pcd = pcd.voxel_down_sample(voxel_size=0.2)\n",
    "\n",
    "pcd.estimate_normals(search_param=o3d.geometry.KDTreeSearchParamHybrid(radius=0.05, max_nn=30))\n",
    "print(pcd)\n",
    "# # Visualize the point cloud\n",
    "o3d.visualization.draw_geometries([pcd])\n",
    "# print('point cloud loaded')\n",
    "# # Estimate normals (required for surface reconstruction)\n",
    "with o3d.utility.VerbosityContextManager(\n",
    "        o3d.utility.VerbosityLevel.Debug) as cm:\n",
    "    mesh, densities = o3d.geometry.TriangleMesh.create_from_point_cloud_poisson(\n",
    "        pcd, depth=9)\n",
    "vertices_to_remove = densities < np.quantile(densities, 0.1)\n",
    "mesh.remove_vertices_by_mask(vertices_to_remove)\n",
    "print(mesh)\n",
    "# radii = [0.01, 0.1, 0.2, 0.4]  # Adjust these values according to the scale of your building\n",
    "\n",
    "# # Perform surface reconstruction\n",
    "# mesh = o3d.geometry.TriangleMesh.create_from_point_cloud_ball_pivoting(\n",
    "#     pcd, o3d.utility.DoubleVector(radii))\n",
    "o3d.visualization.draw_geometries([mesh])\n",
    "# print('normals estimated')\n",
    "# # Optionally, you can orient the normals to be consistent\n",
    "# pcd.orient_normals_consistent_tangent_plane(100)\n",
    "# print('normals oriented')\n",
    "# # Ball Pivoting Algorithm (BPA) for surface reconstruction\n",
    "# radii = [1.0, 2.0, 4.0]  # Define the radii for the BPA\n",
    "# mesh = o3d.geometry.TriangleMesh.create_from_point_cloud_ball_pivoting(\n",
    "#     pcd, o3d.utility.DoubleVector(radii))\n",
    "# print('mesh created')\n",
    "# o3d.visualization.draw_geometries([mesh])\n",
    "# # Transfer the colors from the point cloud to the mesh\n",
    "# # Compute vertex normals for the mesh (required for visualization)\n",
    "# mesh.compute_vertex_normals()\n",
    "# print('vertex normals computed')\n",
    "# # Ensure the mesh has vertex colors\n",
    "# if not any(mesh.has_vertex_colors()):\n",
    "#     # Assign the vertex colors from the point cloud to the mesh\n",
    "#     vertex_colors = np.asarray(pcd.colors)\n",
    "#     mesh.vertex_colors = o3d.utility.Vector3dVector(vertex_colors)\n",
    "\n",
    "# # Visualize the reconstructed mesh with vertex colors\n",
    "# o3d.visualization.draw_geometries([mesh])\n",
    "\n",
    "# # Save the reconstructed mesh\n",
    "o3d.io.write_triangle_mesh(\"reconstructed_mesh_with_colors.ply\", mesh)\n"
   ]
  },
  {
   "cell_type": "code",
   "execution_count": 16,
   "metadata": {},
   "outputs": [
    {
     "name": "stdout",
     "output_type": "stream",
     "text": [
      "0.18.0\n",
      "TriangleMesh with 27590 points and 54547 triangles.\n",
      "Found 18 non-manifold vertices.\n",
      "[Open3D INFO] actual parallel_partitions 1\n",
      "Error during UV unwrapping: \u001b[1;31m[Open3D Error] (void open3d::t::geometry::kernel::uvunwrapping::{anonymous}::ComputeUVAtlasPartition(open3d::t::geometry::TriangleMesh, float, bool, open3d::t::geometry::kernel::uvunwrapping::{anonymous}::UVAtlasPartitionOutput&)) /root/Open3D/cpp/open3d/t/geometry/kernel/UVUnwrapping.cpp:124: UVAtlasPartition: Non-manifold mesh\n",
      "\u001b[0;m\n"
     ]
    }
   ],
   "source": [
    "print(o3d.__version__)\n",
    "\n",
    "print(mesh)\n",
    "mesh.compute_vertex_normals()\n",
    "mesh.remove_duplicated_vertices()\n",
    "# Check for non-manifold edges\n",
    "non_manifold_edges = mesh.get_non_manifold_edges()\n",
    "if len(non_manifold_edges) > 0:\n",
    "    print(f\"Found {len(non_manifold_edges)} non-manifold edges.\")\n",
    "    # Optional: Attempt to remove non-manifold edges\n",
    "    mesh.remove_non_manifold_edges()\n",
    "\n",
    "# Check for non-manifold vertices\n",
    "non_manifold_vertices = mesh.get_non_manifold_vertices()\n",
    "if len(non_manifold_vertices) > 0:\n",
    "    print(f\"Found {len(non_manifold_vertices)} non-manifold vertices.\")\n",
    "    # Optional: Attempt to remove non-manifold vertices\n",
    "    # mesh.remove_non_manifold_vertices()\n",
    "\n",
    "\n",
    "t_mesh = o3d.t.geometry.TriangleMesh.from_legacy(mesh)\n",
    "\n",
    "# Compute the UV atlas partition\n",
    "try:\n",
    "    uv_output = t_mesh.compute_uvatlas()\n",
    "    print(\"UV unwrapping succeeded.\")\n",
    "except RuntimeError as e:\n",
    "    print(f\"Error during UV unwrapping: {e}\")"
   ]
  },
  {
   "cell_type": "code",
   "execution_count": 1,
   "metadata": {},
   "outputs": [
    {
     "name": "stdout",
     "output_type": "stream",
     "text": [
      "Jupyter environment detected. Enabling Open3D WebVisualizer.\n",
      "[Open3D INFO] WebRTC GUI backend enabled.\n",
      "[Open3D INFO] WebRTCWindowSystem: HTTP handshake server disabled.\n",
      "PointCloud with 9547 points.\n",
      "colors [[0.47058824 0.44313725 0.41176471]\n",
      " [0.48453159 0.48932462 0.43877996]\n",
      " [0.25003381 0.24246112 0.21541582]\n",
      " [0.46666667 0.47843137 0.44313725]\n",
      " [0.52352941 0.53529412 0.5       ]\n",
      " [0.53333333 0.5372549  0.50588235]\n",
      " [0.51176471 0.46078431 0.4254902 ]\n",
      " [0.49281046 0.49836601 0.4496732 ]\n",
      " [0.48976827 0.48955437 0.44884135]\n",
      " [0.49717647 0.49654902 0.45164706]]\n",
      "(9547, 3) (9547, 3) (9547, 4)\n",
      "point cloud loaded\n"
     ]
    }
   ],
   "source": [
    "import pymeshlab\n",
    "import numpy as np\n",
    "import open3d as o3d\n",
    "pcd = o3d.io.read_point_cloud(\"/home/gharib-ml/Desktop/master_thesis_v2/exps/exp2-1/cloud.ply\")\n",
    "# simplify\n",
    "pcd = pcd.voxel_down_sample(voxel_size=0.2)\n",
    "\n",
    "pcd.estimate_normals(search_param=o3d.geometry.KDTreeSearchParamHybrid(radius=0.05, max_nn=30))\n",
    "print(pcd)\n",
    "# Load point cloud from pcd\n",
    "# pcd = o3d.io.read_point_cloud(\"your_point_cloud.ply\")\n",
    "points = np.asarray(pcd.points)\n",
    "normals = np.asarray(pcd.normals)\n",
    "colors = np.asarray(pcd.colors)\n",
    "print('colors',colors[:10,:])\n",
    "# add alpha channel\n",
    "colors = np.concatenate([colors, np.ones((colors.shape[0], 1))], axis=1)\n",
    "print(points.shape, normals.shape, colors.shape)\n",
    "m = pymeshlab.Mesh(points, v_normals_matrix=normals, v_color_matrix=colors) # color is N x 4 with alpha info\n",
    "ms = pymeshlab.MeshSet()\n",
    "ms.add_mesh(m, \"pc_scan\")\n",
    "print('point cloud loaded')\n",
    "ms.generate_surface_reconstruction_screened_poisson(depth=8, scale=1)\n",
    "# not familiar with the crop API, but I'm sure it's doable\n",
    "# now we generate UV map; there are a couple options here but this is a naive way\n",
    "print('surface reconstructed')\n",
    "ms.compute_texcoord_parametrization_triangle_trivial_per_wedge()\n",
    "# create texture using UV map and vertex colors\n",
    "print('uv map computed')\n",
    "ms.compute_texmap_from_color(textname=f\"my_texture_name\") # textname will be filename of a png, should not be a full path\n",
    "# texture file won't be saved until you save the mesh\n",
    "ms.save_current_mesh(mesh_path)"
   ]
  },
  {
   "cell_type": "code",
   "execution_count": 18,
   "metadata": {},
   "outputs": [
    {
     "name": "stdout",
     "output_type": "stream",
     "text": [
      "std::vector<Eigen::Vector3d> with 132830 elements.\n",
      "Use numpy.asarray() to access data.\n"
     ]
    }
   ],
   "source": [
    "print(mesh.vertex_colors)"
   ]
  },
  {
   "cell_type": "markdown",
   "metadata": {},
   "source": [
    "print()"
   ]
  },
  {
   "cell_type": "code",
   "execution_count": 5,
   "metadata": {},
   "outputs": [
    {
     "name": "stdout",
     "output_type": "stream",
     "text": [
      "Similar Triangles face sampling\n"
     ]
    }
   ],
   "source": [
    "import pymeshlab\n",
    "\n",
    "# Load the .ply file\n",
    "ms = pymeshlab.MeshSet()\n",
    "ms.load_new_mesh(\"reconstructed_mesh_with_colors.ply\")\n",
    "ms.compute_texcoord_parametrization_triangle_trivial_per_wedge()\n",
    "ms.compute_texmap_from_color(textname=f\"my_texture_name\") # textname will be filename of a png, should not be a full path\n",
    "# Save the mesh as .dae\n",
    "ms.save_current_mesh(\"f.dae\", save_textures=True)"
   ]
  }
 ],
 "metadata": {
  "kernelspec": {
   "display_name": "venv2",
   "language": "python",
   "name": "python3"
  },
  "language_info": {
   "codemirror_mode": {
    "name": "ipython",
    "version": 3
   },
   "file_extension": ".py",
   "mimetype": "text/x-python",
   "name": "python",
   "nbconvert_exporter": "python",
   "pygments_lexer": "ipython3",
   "version": "3.8.10"
  }
 },
 "nbformat": 4,
 "nbformat_minor": 2
}
