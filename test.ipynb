{
 "cells": [
  {
   "cell_type": "code",
   "execution_count": 2,
   "metadata": {},
   "outputs": [
    {
     "name": "stdout",
     "output_type": "stream",
     "text": [
      "Distance between the reference frame and the transformed frame: 0.05900400485572797\n"
     ]
    }
   ],
   "source": [
    "import numpy as np\n",
    "import open3d as o3d\n",
    "\n",
    "# Provided data\n",
    "rows = 3\n",
    "cols = 4\n",
    "local_transform_data = [3.86178913e-03, 7.16005638e-03, 9.99966919e-01, -8.22682559e-05, \n",
    "                        -9.99987423e-01, 3.22349067e-03, 3.83878709e-03, -5.90039231e-02, \n",
    "                        -3.19589814e-03, -9.99969184e-01, 7.17241457e-03, 5.36633779e-05]\n",
    "\n",
    "# Create the transformation matrix\n",
    "local_transform = np.array(local_transform_data).reshape(rows, cols)\n",
    "\n",
    "# Add an extra row [0, 0, 0, 1] to make it a 4x4 transformation matrix\n",
    "transformation_matrix = np.vstack((local_transform, [0, 0, 0, 1]))\n",
    "\n",
    "# Reference frame (world coordinate frame)\n",
    "reference_frame = o3d.geometry.TriangleMesh.create_coordinate_frame(size=0.1)\n",
    "\n",
    "# Transformed frame\n",
    "transformed_frame = o3d.geometry.TriangleMesh.create_coordinate_frame(size=0.1)\n",
    "transformed_frame.transform(transformation_matrix)\n",
    "\n",
    "# Calculate the distance between the origins of the reference frame and the transformed frame\n",
    "origin_reference_frame = np.array([0, 0, 0, 1])\n",
    "origin_transformed_frame = transformation_matrix @ origin_reference_frame\n",
    "distance = np.linalg.norm(origin_transformed_frame[:3] - origin_reference_frame[:3])\n",
    "\n",
    "print(f\"Distance between the reference frame and the transformed frame: {distance}\")\n",
    "\n",
    "# Visualize both frames\n",
    "o3d.visualization.draw_geometries([reference_frame, transformed_frame])\n"
   ]
  }
 ],
 "metadata": {
  "kernelspec": {
   "display_name": "venv",
   "language": "python",
   "name": "python3"
  },
  "language_info": {
   "codemirror_mode": {
    "name": "ipython",
    "version": 3
   },
   "file_extension": ".py",
   "mimetype": "text/x-python",
   "name": "python",
   "nbconvert_exporter": "python",
   "pygments_lexer": "ipython3",
   "version": "3.8.10"
  }
 },
 "nbformat": 4,
 "nbformat_minor": 2
}
