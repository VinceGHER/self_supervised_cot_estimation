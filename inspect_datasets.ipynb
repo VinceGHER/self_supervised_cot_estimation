{
 "cells": [
  {
   "cell_type": "code",
   "execution_count": 1,
   "metadata": {},
   "outputs": [
    {
     "ename": "NameError",
     "evalue": "name 'clear_folder' is not defined",
     "output_type": "error",
     "traceback": [
      "\u001b[1;31m---------------------------------------------------------------------------\u001b[0m",
      "\u001b[1;31mNameError\u001b[0m                                 Traceback (most recent call last)",
      "Cell \u001b[1;32mIn[1], line 3\u001b[0m\n\u001b[0;32m      1\u001b[0m \u001b[38;5;28;01mfrom\u001b[39;00m \u001b[38;5;21;01mmpl_toolkits\u001b[39;00m\u001b[38;5;21;01m.\u001b[39;00m\u001b[38;5;21;01maxes_grid1\u001b[39;00m \u001b[38;5;28;01mimport\u001b[39;00m make_axes_locatable\n\u001b[1;32m----> 3\u001b[0m \u001b[43mclear_folder\u001b[49m(os\u001b[38;5;241m.\u001b[39mpath\u001b[38;5;241m.\u001b[39mjoin(valid_folder_manually, \u001b[38;5;124m\"\u001b[39m\u001b[38;5;124mmask\u001b[39m\u001b[38;5;124m\"\u001b[39m))\n\u001b[0;32m      4\u001b[0m selected_ids \u001b[38;5;241m=\u001b[39m [\u001b[38;5;28mint\u001b[39m(key) \u001b[38;5;28;01mfor\u001b[39;00m key, value \u001b[38;5;129;01min\u001b[39;00m id_to_label_name\u001b[38;5;241m.\u001b[39mitems() \u001b[38;5;28;01mif\u001b[39;00m value \u001b[38;5;129;01min\u001b[39;00m selected_names]\n\u001b[0;32m      5\u001b[0m \u001b[38;5;28mprint\u001b[39m(selected_ids)\n",
      "\u001b[1;31mNameError\u001b[0m: name 'clear_folder' is not defined"
     ]
    }
   ],
   "source": [
    "from mpl_toolkits.axes_grid1 import make_axes_locatable\n",
    "\n",
    "clear_folder(os.path.join(valid_folder_manually, \"mask\"))\n",
    "selected_ids = [int(key) for key, value in id_to_label_name.items() if value in selected_names]\n",
    "print(selected_ids)\n",
    "for label_file in label_files:\n",
    "    labels = np.load(label_file)\n",
    "    print(\"timestamp:\",os.path.basename(label_file))\n",
    "    img = Image.open(check_file_path(imaege_folder,os.path.basename(label_file).replace(\".npy\",\".jpg\")))\n",
    "    mask = np.load(check_file_path(valid_folder,\"mask\",os.path.basename(label_file)))\n",
    "    output_image = np.ones(labels.shape, dtype=np.float32) * cot_no_traversable\n",
    "    for i in range(len(selected_ids)):\n",
    "        output_image[labels == selected_ids[i]] = mean[selected_ids[i]]\n",
    "    fig, ax = plt.subplots(1, 4, figsize=(16, 3))\n",
    "    ax[0].imshow(img)\n",
    "    ax[0].set_title('Original Image')\n",
    "    ax[2].imshow(img)\n",
    "    ax[2].imshow(output_image, alpha=0.75,cmap='nipy_spectral', vmin=0.5, vmax=3)\n",
    "    ax[2].set_title('Valid Mask')\n",
    "    ax[3].imshow(img)\n",
    "    im2 = ax[3].imshow(mask, alpha=0.75,cmap='nipy_spectral', vmin=0.5, vmax=3)\n",
    "    ax[3].set_title('Current valid Mask')    \n",
    "    divider = make_axes_locatable(ax[2])\n",
    "    cax = divider.append_axes('right', size='10%', pad=0.15)\n",
    "    fig.colorbar(im2, cax=cax, orientation='vertical')\n",
    "    plot_predicted_semantic_map(img,labels,ax[1])\n",
    "    # save as image array\n",
    "    fig.tight_layout()\n",
    "    fig.canvas.draw()\n",
    "    plt.show()\n",
    "\n",
    "    # save output\n",
    "    np.save(os.path.join(valid_folder_manually, 'mask', os.path.basename(label_file)), output_image)\n",
    "    \n",
    "    # image = np.frombuffer(fig.canvas.tostring_rgb(), dtype='uint8')   \n",
    "    # image  = image.reshape(fig.canvas.get_width_height()[::-1] + (3,))\n",
    "    # break"
   ]
  }
 ],
 "metadata": {
  "kernelspec": {
   "display_name": "venv3",
   "language": "python",
   "name": "python3"
  },
  "language_info": {
   "codemirror_mode": {
    "name": "ipython",
    "version": 3
   },
   "file_extension": ".py",
   "mimetype": "text/x-python",
   "name": "python",
   "nbconvert_exporter": "python",
   "pygments_lexer": "ipython3",
   "version": "3.8.10"
  }
 },
 "nbformat": 4,
 "nbformat_minor": 2
}
