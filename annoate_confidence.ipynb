{
 "cells": [
  {
   "cell_type": "code",
   "execution_count": 1,
   "metadata": {},
   "outputs": [
    {
     "name": "stderr",
     "output_type": "stream",
     "text": [
      "Failed to detect the name of this notebook, you can set it manually with the WANDB_NOTEBOOK_NAME environment variable to enable code saving.\n",
      "\u001b[34m\u001b[1mwandb\u001b[0m: Currently logged in as: \u001b[33mvincekillerz\u001b[0m. Use \u001b[1m`wandb login --relogin`\u001b[0m to force relogin\n"
     ]
    },
    {
     "data": {
      "text/html": [
       "Tracking run with wandb version 0.16.6"
      ],
      "text/plain": [
       "<IPython.core.display.HTML object>"
      ]
     },
     "metadata": {},
     "output_type": "display_data"
    },
    {
     "data": {
      "text/html": [
       "Run data is saved locally in <code>c:\\Users\\Gharib\\Desktop\\vincent\\master_thesis_v2\\wandb\\run-20240430_090810-mrjd5vnu</code>"
      ],
      "text/plain": [
       "<IPython.core.display.HTML object>"
      ]
     },
     "metadata": {},
     "output_type": "display_data"
    },
    {
     "data": {
      "text/html": [
       "Syncing run <strong><a href='https://wandb.ai/vincekillerz/uncategorized/runs/mrjd5vnu' target=\"_blank\">icy-snowball-10</a></strong> to <a href='https://wandb.ai/vincekillerz/uncategorized' target=\"_blank\">Weights & Biases</a> (<a href='https://wandb.me/run' target=\"_blank\">docs</a>)<br/>"
      ],
      "text/plain": [
       "<IPython.core.display.HTML object>"
      ]
     },
     "metadata": {},
     "output_type": "display_data"
    },
    {
     "data": {
      "text/html": [
       " View project at <a href='https://wandb.ai/vincekillerz/uncategorized' target=\"_blank\">https://wandb.ai/vincekillerz/uncategorized</a>"
      ],
      "text/plain": [
       "<IPython.core.display.HTML object>"
      ]
     },
     "metadata": {},
     "output_type": "display_data"
    },
    {
     "data": {
      "text/html": [
       " View run at <a href='https://wandb.ai/vincekillerz/uncategorized/runs/mrjd5vnu' target=\"_blank\">https://wandb.ai/vincekillerz/uncategorized/runs/mrjd5vnu</a>"
      ],
      "text/plain": [
       "<IPython.core.display.HTML object>"
      ]
     },
     "metadata": {},
     "output_type": "display_data"
    },
    {
     "name": "stderr",
     "output_type": "stream",
     "text": [
      "\u001b[34m\u001b[1mwandb\u001b[0m:   2 of 2 files downloaded.  \n"
     ]
    }
   ],
   "source": [
    "import wandb\n",
    "run = wandb.init()\n",
    "artifact = run.use_artifact('vincekillerz/base-confidence-estimation-v2/saved_model:v5', type='model')\n",
    "artifact_dir = artifact.download()"
   ]
  },
  {
   "cell_type": "code",
   "execution_count": 2,
   "metadata": {},
   "outputs": [],
   "source": [
    "import os\n",
    "import yaml \n",
    "from src.tools import check_file_path\n",
    "config = yaml.safe_load(open(check_file_path(artifact_dir, 'config.yaml')))\n",
    "model_path = check_file_path(artifact_dir, 'trained_model.pth')"
   ]
  },
  {
   "cell_type": "code",
   "execution_count": 3,
   "metadata": {},
   "outputs": [
    {
     "name": "stderr",
     "output_type": "stream",
     "text": [
      "c:\\Users\\Gharib\\Desktop\\vincent\\master_thesis_v2\\venv\\lib\\site-packages\\tqdm\\auto.py:21: TqdmWarning: IProgress not found. Please update jupyter and ipywidgets. See https://ipywidgets.readthedocs.io/en/stable/user_install.html\n",
      "  from .autonotebook import tqdm as notebook_tqdm\n"
     ]
    }
   ],
   "source": [
    "import torch\n",
    "from src.ml_orchestrator.dataset import COTDataset\n",
    "from src.ml_orchestrator.loss.loss_builder import loss_builder\n",
    "from src.ml_orchestrator.transforms.transforms_builder import TransformBuilder\n",
    "from torch.utils.data import DataLoader\n",
    "\n",
    "from src.models.model_builder import model_builder\n",
    "\n",
    "transform_builder = TransformBuilder(config['transforms'])\n",
    "\n",
    "dataset_folder = check_file_path(\"datasets\",config['ml_orchestrator']['dataset_name'])\n",
    "\n",
    "train_dataset = COTDataset(\n",
    "    confidence=config['confidence'],\n",
    "    root_dir=check_file_path(dataset_folder,\"train\"), \n",
    "    transform_input=transform_builder.build_transforms_inputs(),\n",
    "    transform_common=transform_builder.build_transform_common(), \n",
    "    config=config, \n",
    ")\n",
    "\n",
    "valid_manually_labelled_dataset = COTDataset(\n",
    "    confidence=config['confidence'],\n",
    "    root_dir=check_file_path(dataset_folder,\"valid_manually_labelled\"), \n",
    "    transform_input=transform_builder.build_transforms_inputs(),\n",
    "    transform_common=transform_builder.build_transform_common(), \n",
    "    config=config, \n",
    ")\n",
    "\n",
    "train_loader = DataLoader(\n",
    "    train_dataset, \n",
    "    batch_size=config['ml_orchestrator']['batch_size'], \n",
    "    shuffle=True,\n",
    "    pin_memory=True,\n",
    "    num_workers=config['ml_orchestrator']['num_workers']\n",
    ")\n",
    "valid_loader = DataLoader(\n",
    "    valid_manually_labelled_dataset, \n",
    "    batch_size=config['ml_orchestrator']['batch_size'], \n",
    "    shuffle=True,\n",
    "    pin_memory=True,\n",
    "    num_workers=config['ml_orchestrator']['num_workers']\n",
    ")\n",
    "model = model_builder(config['model_builder'])\n",
    "model.to(config['ml_orchestrator']['device'])\n",
    "# load model\n",
    "model.load_state_dict(torch.load(model_path))\n",
    "\n",
    "device = config['ml_orchestrator']['device']\n",
    "criterion = loss_builder(config)"
   ]
  },
  {
   "cell_type": "code",
   "execution_count": 6,
   "metadata": {},
   "outputs": [],
   "source": [
    "import torch\n",
    "import torch.nn as nn\n",
    "import numpy as np\n",
    "import matplotlib.pyplot as plt\n",
    "from src.tools import clear_folder\n",
    "\n",
    "\n",
    "def process_batch(batch,name):\n",
    "    images = batch['image'].to(device)\n",
    "    depths = batch['depth'].to(device)\n",
    "    confidence = batch['confidence'].to(device)\n",
    "    masks = batch['mask'].to(device)\n",
    "    timestamps = batch['timestamp']\n",
    "    outputs = model(images, depths)\n",
    "    loss,confidence = criterion(outputs, masks, confidence, 0)\n",
    "    outputs = outputs[0]\n",
    "\n",
    "    segs = batch['seg'].to(device)\n",
    "    for i in range(len(images)):\n",
    "        confidence_segs = torch.zeros_like(confidence[i])\n",
    "        unique, counts = torch.unique(segs[i], return_counts=True)\n",
    "        for j in range(len(unique)):\n",
    "            sum = torch.sum(confidence[i][segs[i] == unique[j]])\n",
    "            \n",
    "            ratio = sum / counts[j]\n",
    "            if ratio > 0.25:\n",
    "                confidence_segs[segs[i] == unique[j]] = 1\n",
    "        # fig, ax = plt.subplots(1, 3)\n",
    "        # ax[0].imshow(images[i].cpu().permute(1,2,0).numpy())\n",
    "        # ax[1].imshow(confidence[i].squeeze(0).cpu().numpy())\n",
    "        # ax[2].imshow(confidence_segs.squeeze(0).cpu().numpy())\n",
    "        # plt.show()\n",
    "        confidence_segs = confidence_segs.unsqueeze(0)\n",
    "        confidence_segs_big = nn.functional.interpolate(confidence_segs, size=(480, 640), mode='nearest')\n",
    "        np.save(os.path.join(dataset_folder,name,\"confidence\",f\"{timestamps[i]}.npy\"), confidence_segs_big.squeeze(0).squeeze(0).cpu().numpy())\n",
    "        \n",
    "\n",
    "with torch.inference_mode():\n",
    "    clear_folder(os.path.join(dataset_folder,\"train\",\"confidence\"))\n",
    "    clear_folder(os.path.join(dataset_folder,\"valid_manually_labelled\",\"confidence\"))\n",
    "    for batch in train_loader:\n",
    "        process_batch(batch,\"train\")\n",
    "    for batch in valid_loader:\n",
    "        process_batch(batch,\"valid_manually_labelled\")\n",
    "\n"
   ]
  }
 ],
 "metadata": {
  "kernelspec": {
   "display_name": "venv",
   "language": "python",
   "name": "python3"
  },
  "language_info": {
   "codemirror_mode": {
    "name": "ipython",
    "version": 3
   },
   "file_extension": ".py",
   "mimetype": "text/x-python",
   "name": "python",
   "nbconvert_exporter": "python",
   "pygments_lexer": "ipython3",
   "version": "3.8.10"
  }
 },
 "nbformat": 4,
 "nbformat_minor": 2
}
